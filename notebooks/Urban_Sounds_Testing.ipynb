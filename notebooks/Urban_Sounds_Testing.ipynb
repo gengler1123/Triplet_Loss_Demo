{
 "cells": [
  {
   "cell_type": "code",
   "execution_count": 1,
   "metadata": {},
   "outputs": [
    {
     "name": "stdout",
     "output_type": "stream",
     "text": [
      "Requirement already satisfied: umap-learn in /opt/conda/lib/python3.7/site-packages (0.3.10)\n",
      "Requirement already satisfied: scipy>=0.19 in /opt/conda/lib/python3.7/site-packages (from umap-learn) (1.3.2)\n",
      "Requirement already satisfied: numba>=0.37 in /opt/conda/lib/python3.7/site-packages (from umap-learn) (0.45.1)\n",
      "Requirement already satisfied: numpy>=1.13 in /opt/conda/lib/python3.7/site-packages (from umap-learn) (1.17.3)\n",
      "Requirement already satisfied: scikit-learn>=0.16 in /opt/conda/lib/python3.7/site-packages (from umap-learn) (0.21.3)\n",
      "Requirement already satisfied: llvmlite>=0.29.0dev0 in /opt/conda/lib/python3.7/site-packages (from numba>=0.37->umap-learn) (0.29.0)\n",
      "Requirement already satisfied: joblib>=0.11 in /opt/conda/lib/python3.7/site-packages (from scikit-learn>=0.16->umap-learn) (0.14.0)\n"
     ]
    }
   ],
   "source": [
    "import io\n",
    "import numpy as np\n",
    "import tensorflow as tf\n",
    "import pandas as pd\n",
    "from scipy.io import wavfile\n",
    "from python_speech_features import mfcc\n",
    "import matplotlib.pyplot as plt\n",
    "!pip install umap-learn\n",
    "import umap\n",
    "import seaborn as sns\n",
    "from tqdm import tqdm\n",
    "\n",
    "import tensorflow_addons as tfa"
   ]
  },
  {
   "cell_type": "code",
   "execution_count": 2,
   "metadata": {},
   "outputs": [
    {
     "name": "stdout",
     "output_type": "stream",
     "text": [
      "Model: \"sequential\"\n",
      "_________________________________________________________________\n",
      "Layer (type)                 Output Shape              Param #   \n",
      "=================================================================\n",
      "lstm (LSTM)                  (None, 32, 256)           276480    \n",
      "_________________________________________________________________\n",
      "lstm_1 (LSTM)                (None, 256)               525312    \n",
      "_________________________________________________________________\n",
      "flatten (Flatten)            (None, 256)               0         \n",
      "_________________________________________________________________\n",
      "dense (Dense)                (None, 256)               65792     \n",
      "_________________________________________________________________\n",
      "lambda (Lambda)              (None, 256)               0         \n",
      "=================================================================\n",
      "Total params: 867,584\n",
      "Trainable params: 867,584\n",
      "Non-trainable params: 0\n",
      "_________________________________________________________________\n"
     ]
    }
   ],
   "source": [
    "model = tf.keras.Sequential([\n",
    "    tf.keras.layers.LSTM(\n",
    "        256,\n",
    "        input_shape=(32,13),\n",
    "        return_sequences=True\n",
    "    ),\n",
    "    tf.keras.layers.LSTM(\n",
    "        256\n",
    "    ),\n",
    "    tf.keras.layers.Flatten(),\n",
    "    tf.keras.layers.Dense(\n",
    "        256, \n",
    "        activation=None\n",
    "    ), \n",
    "    tf.keras.layers.Lambda(\n",
    "        lambda x: tf.math.l2_normalize(x, axis=1)\n",
    "    )\n",
    "])\n",
    "\n",
    "model.summary()"
   ]
  },
  {
   "cell_type": "code",
   "execution_count": 3,
   "metadata": {},
   "outputs": [
    {
     "name": "stdout",
     "output_type": "stream",
     "text": [
      "UrbanSound8K.csv\r\n"
     ]
    }
   ],
   "source": [
    "!ls /data/UrbanSound8K/metadata"
   ]
  },
  {
   "cell_type": "code",
   "execution_count": 4,
   "metadata": {},
   "outputs": [],
   "source": [
    "metadata_path = \"/data/UrbanSound8K/metadata/UrbanSound8K.csv\"\n",
    "\n",
    "df = pd.read_csv(metadata_path)"
   ]
  },
  {
   "cell_type": "code",
   "execution_count": 5,
   "metadata": {},
   "outputs": [
    {
     "data": {
      "text/html": [
       "<div>\n",
       "<style scoped>\n",
       "    .dataframe tbody tr th:only-of-type {\n",
       "        vertical-align: middle;\n",
       "    }\n",
       "\n",
       "    .dataframe tbody tr th {\n",
       "        vertical-align: top;\n",
       "    }\n",
       "\n",
       "    .dataframe thead th {\n",
       "        text-align: right;\n",
       "    }\n",
       "</style>\n",
       "<table border=\"1\" class=\"dataframe\">\n",
       "  <thead>\n",
       "    <tr style=\"text-align: right;\">\n",
       "      <th></th>\n",
       "      <th>slice_file_name</th>\n",
       "      <th>fsID</th>\n",
       "      <th>start</th>\n",
       "      <th>end</th>\n",
       "      <th>salience</th>\n",
       "      <th>fold</th>\n",
       "      <th>classID</th>\n",
       "      <th>class</th>\n",
       "    </tr>\n",
       "  </thead>\n",
       "  <tbody>\n",
       "    <tr>\n",
       "      <th>0</th>\n",
       "      <td>100032-3-0-0.wav</td>\n",
       "      <td>100032</td>\n",
       "      <td>0.0</td>\n",
       "      <td>0.317551</td>\n",
       "      <td>1</td>\n",
       "      <td>5</td>\n",
       "      <td>3</td>\n",
       "      <td>dog_bark</td>\n",
       "    </tr>\n",
       "    <tr>\n",
       "      <th>1</th>\n",
       "      <td>100263-2-0-117.wav</td>\n",
       "      <td>100263</td>\n",
       "      <td>58.5</td>\n",
       "      <td>62.500000</td>\n",
       "      <td>1</td>\n",
       "      <td>5</td>\n",
       "      <td>2</td>\n",
       "      <td>children_playing</td>\n",
       "    </tr>\n",
       "    <tr>\n",
       "      <th>2</th>\n",
       "      <td>100263-2-0-121.wav</td>\n",
       "      <td>100263</td>\n",
       "      <td>60.5</td>\n",
       "      <td>64.500000</td>\n",
       "      <td>1</td>\n",
       "      <td>5</td>\n",
       "      <td>2</td>\n",
       "      <td>children_playing</td>\n",
       "    </tr>\n",
       "    <tr>\n",
       "      <th>3</th>\n",
       "      <td>100263-2-0-126.wav</td>\n",
       "      <td>100263</td>\n",
       "      <td>63.0</td>\n",
       "      <td>67.000000</td>\n",
       "      <td>1</td>\n",
       "      <td>5</td>\n",
       "      <td>2</td>\n",
       "      <td>children_playing</td>\n",
       "    </tr>\n",
       "    <tr>\n",
       "      <th>4</th>\n",
       "      <td>100263-2-0-137.wav</td>\n",
       "      <td>100263</td>\n",
       "      <td>68.5</td>\n",
       "      <td>72.500000</td>\n",
       "      <td>1</td>\n",
       "      <td>5</td>\n",
       "      <td>2</td>\n",
       "      <td>children_playing</td>\n",
       "    </tr>\n",
       "  </tbody>\n",
       "</table>\n",
       "</div>"
      ],
      "text/plain": [
       "      slice_file_name    fsID  start        end  salience  fold  classID  \\\n",
       "0    100032-3-0-0.wav  100032    0.0   0.317551         1     5        3   \n",
       "1  100263-2-0-117.wav  100263   58.5  62.500000         1     5        2   \n",
       "2  100263-2-0-121.wav  100263   60.5  64.500000         1     5        2   \n",
       "3  100263-2-0-126.wav  100263   63.0  67.000000         1     5        2   \n",
       "4  100263-2-0-137.wav  100263   68.5  72.500000         1     5        2   \n",
       "\n",
       "              class  \n",
       "0          dog_bark  \n",
       "1  children_playing  \n",
       "2  children_playing  \n",
       "3  children_playing  \n",
       "4  children_playing  "
      ]
     },
     "execution_count": 5,
     "metadata": {},
     "output_type": "execute_result"
    }
   ],
   "source": [
    "df.head()"
   ]
  },
  {
   "cell_type": "code",
   "execution_count": 6,
   "metadata": {},
   "outputs": [
    {
     "data": {
      "text/plain": [
       "8732"
      ]
     },
     "execution_count": 6,
     "metadata": {},
     "output_type": "execute_result"
    }
   ],
   "source": [
    "filepath = \"/data/UrbanSound8K/audio/fold{fold}/{filename}\"\n",
    "\n",
    "len(df.index)"
   ]
  },
  {
   "cell_type": "code",
   "execution_count": 30,
   "metadata": {},
   "outputs": [
    {
     "name": "stderr",
     "output_type": "stream",
     "text": [
      "WARNING:root:frame length (4800) is greater than FFT size (2560), frame will be truncated. Increase NFFT to avoid.\n",
      "WARNING:root:frame length (4800) is greater than FFT size (2560), frame will be truncated. Increase NFFT to avoid.\n",
      "WARNING:root:frame length (4800) is greater than FFT size (2560), frame will be truncated. Increase NFFT to avoid.\n",
      "WARNING:root:frame length (4800) is greater than FFT size (2560), frame will be truncated. Increase NFFT to avoid.\n",
      "WARNING:root:frame length (4800) is greater than FFT size (2560), frame will be truncated. Increase NFFT to avoid.\n",
      "WARNING:root:frame length (4800) is greater than FFT size (2560), frame will be truncated. Increase NFFT to avoid.\n",
      "WARNING:root:frame length (4800) is greater than FFT size (2560), frame will be truncated. Increase NFFT to avoid.\n",
      "WARNING:root:frame length (4800) is greater than FFT size (2560), frame will be truncated. Increase NFFT to avoid.\n",
      "WARNING:root:frame length (4800) is greater than FFT size (2560), frame will be truncated. Increase NFFT to avoid.\n",
      "WARNING:root:frame length (4800) is greater than FFT size (2560), frame will be truncated. Increase NFFT to avoid.\n",
      "WARNING:root:frame length (4800) is greater than FFT size (2560), frame will be truncated. Increase NFFT to avoid.\n",
      "WARNING:root:frame length (4800) is greater than FFT size (2560), frame will be truncated. Increase NFFT to avoid.\n",
      "WARNING:root:frame length (4800) is greater than FFT size (2560), frame will be truncated. Increase NFFT to avoid.\n",
      "WARNING:root:frame length (4800) is greater than FFT size (2560), frame will be truncated. Increase NFFT to avoid.\n",
      "WARNING:root:frame length (4800) is greater than FFT size (2560), frame will be truncated. Increase NFFT to avoid.\n",
      "WARNING:root:frame length (4800) is greater than FFT size (2560), frame will be truncated. Increase NFFT to avoid.\n",
      "WARNING:root:frame length (4800) is greater than FFT size (2560), frame will be truncated. Increase NFFT to avoid.\n"
     ]
    },
    {
     "name": "stdout",
     "output_type": "stream",
     "text": [
      "Exception: /data/UrbanSound8K/audio/fold5/19007-4-0-0.wav\n",
      "Exception: /data/UrbanSound8K/audio/fold8/36429-2-0-13.wav\n",
      "Exception: /data/UrbanSound8K/audio/fold8/36429-2-0-14.wav\n",
      "Exception: /data/UrbanSound8K/audio/fold8/36429-2-0-15.wav\n",
      "Exception: /data/UrbanSound8K/audio/fold8/36429-2-0-18.wav\n",
      "Exception: /data/UrbanSound8K/audio/fold8/36429-2-0-23.wav\n",
      "Exception: /data/UrbanSound8K/audio/fold8/36429-2-0-6.wav\n",
      "Exception: /data/UrbanSound8K/audio/fold8/36429-2-0-7.wav\n",
      "Exception: /data/UrbanSound8K/audio/fold1/88466-7-0-0.wav\n",
      "Number of Exceptions: 9\n"
     ]
    }
   ],
   "source": [
    "test_file = filepath.format(\n",
    "    fold=5,\n",
    "    filename=\"100032-3-0-0.wav\"\n",
    ")\n",
    "\n",
    "fs, sample = wavfile.read(test_file)\n",
    "\n",
    "Data = []\n",
    "Labels = []\n",
    "Lengths = []\n",
    "\n",
    "exception_count = 0\n",
    "idx = 0\n",
    "for row in df.iterrows():\n",
    "    row=row[1]\n",
    "    filename = filepath.format(\n",
    "        fold=row['fold'],\n",
    "        filename=row['slice_file_name']\n",
    "    )\n",
    "    try:\n",
    "        audio = AudioSegment.from_wav(filename)\n",
    "        fs, sample = audio.frame_rate, \\\n",
    "            np.array(audio.get_array_of_samples(), dtype=float)\n",
    "        data = mfcc(signal=sample, samplerate=fs, nfft=2048+512)\n",
    "        Lengths.append(data.shape[0])\n",
    "        Data.append(data)\n",
    "        Labels.append(row['class'])\n",
    "        idx += 1\n",
    "    except Exception as e:\n",
    "        print(f\"Exception: {filename}\")\n",
    "        exception_count += 1\n",
    "\n",
    "print(f\"Number of Exceptions: {exception_count}\")"
   ]
  },
  {
   "cell_type": "code",
   "execution_count": null,
   "metadata": {},
   "outputs": [],
   "source": [
    "Data_ = np.array(Data)\n",
    "\n",
    "np.save(\"/home/jovyan/work/preprocessed_data.npy\", Data_)\n",
    "import json\n",
    "#json.dump(Label, open(\"/home/jovyan/work/processed_labels.json\", 'w'))"
   ]
  },
  {
   "cell_type": "code",
   "execution_count": 34,
   "metadata": {},
   "outputs": [
    {
     "data": {
      "text/plain": [
       "(array([ 185.,  240.,  245.,  207.,  713.,  139.,   83.,   72.,   41.,\n",
       "        6798.]),\n",
       " array([  9. ,  88.2, 167.4, 246.6, 325.8, 405. , 484.2, 563.4, 642.6,\n",
       "        721.8, 801. ]),\n",
       " <a list of 10 Patch objects>)"
      ]
     },
     "execution_count": 34,
     "metadata": {},
     "output_type": "execute_result"
    },
    {
     "data": {
      "image/png": "[encoded data removed]",
      "text/plain": [
       "<Figure size 432x288 with 1 Axes>"
      ]
     },
     "metadata": {
      "needs_background": "light"
     },
     "output_type": "display_data"
    }
   ],
   "source": [
    "plt.hist(Lengths)"
   ]
  },
  {
   "cell_type": "code",
   "execution_count": 27,
   "metadata": {},
   "outputs": [
    {
     "name": "stdout",
     "output_type": "stream",
     "text": [
      "<class 'array.array'>\n",
      "(799, 13)\n"
     ]
    }
   ],
   "source": [
    "from pydub import AudioSegment\n",
    "\n",
    "audio = AudioSegment.from_wav(filename)\n",
    "\n",
    "audio.frame_rate\n",
    "\n",
    "print(type(audio.get_array_of_samples()))\n",
    "\n",
    "_data = mfcc(\n",
    "    signal=np.array(audio.get_array_of_samples(),dtype=float), \n",
    "    samplerate=audio.frame_rate,\n",
    "    nfft=2048+512\n",
    ")\n",
    "\n",
    "print(_data.shape)"
   ]
  },
  {
   "cell_type": "code",
   "execution_count": 35,
   "metadata": {},
   "outputs": [],
   "source": [
    "_Data = tf.keras.preprocessing.sequence.pad_sequences(\n",
    "    Data,\n",
    "    maxlen=1024,\n",
    "    dtype='float32',\n",
    "    padding='pre',\n",
    "    truncating='pre',\n",
    "    value=0.0\n",
    ")\n",
    "\n",
    "from random import randint\n",
    "\n",
    "Map = {}\n",
    "l = 0\n",
    "Label = []\n",
    "\n",
    "for label in Labels:\n",
    "    if label not in Map:\n",
    "        Map[label] = l\n",
    "        l += 1\n",
    "    Label.append(Map[label])"
   ]
  },
  {
   "cell_type": "code",
   "execution_count": 31,
   "metadata": {},
   "outputs": [
    {
     "ename": "NameError",
     "evalue": "name '_Data' is not defined",
     "output_type": "error",
     "traceback": [
      "\u001b[0;31m---------------------------------------------------------------------------\u001b[0m",
      "\u001b[0;31mNameError\u001b[0m                                 Traceback (most recent call last)",
      "\u001b[0;32m<ipython-input-31-91886e925340>\u001b[0m in \u001b[0;36m<module>\u001b[0;34m\u001b[0m\n\u001b[0;32m----> 1\u001b[0;31m \u001b[0mnp\u001b[0m\u001b[0;34m.\u001b[0m\u001b[0msave\u001b[0m\u001b[0;34m(\u001b[0m\u001b[0;34m\"/home/jovyan/work/processed_data.npy\"\u001b[0m\u001b[0;34m,\u001b[0m \u001b[0m_Data\u001b[0m\u001b[0;34m)\u001b[0m\u001b[0;34m\u001b[0m\u001b[0;34m\u001b[0m\u001b[0m\n\u001b[0m\u001b[1;32m      2\u001b[0m \u001b[0;32mimport\u001b[0m \u001b[0mjson\u001b[0m\u001b[0;34m\u001b[0m\u001b[0;34m\u001b[0m\u001b[0m\n\u001b[1;32m      3\u001b[0m \u001b[0mjson\u001b[0m\u001b[0;34m.\u001b[0m\u001b[0mdump\u001b[0m\u001b[0;34m(\u001b[0m\u001b[0mLabel\u001b[0m\u001b[0;34m,\u001b[0m \u001b[0mopen\u001b[0m\u001b[0;34m(\u001b[0m\u001b[0;34m\"/home/jovyan/work/processed_labels.json\"\u001b[0m\u001b[0;34m,\u001b[0m \u001b[0;34m'w'\u001b[0m\u001b[0;34m)\u001b[0m\u001b[0;34m)\u001b[0m\u001b[0;34m\u001b[0m\u001b[0;34m\u001b[0m\u001b[0m\n",
      "\u001b[0;31mNameError\u001b[0m: name '_Data' is not defined"
     ]
    }
   ],
   "source": [
    "np.save(\"/home/jovyan/work/processed_data.npy\", _Data)\n",
    "import json\n",
    "json.dump(Label, open(\"/home/jovyan/work/processed_labels.json\", 'w'))"
   ]
  },
  {
   "cell_type": "code",
   "execution_count": 33,
   "metadata": {},
   "outputs": [
    {
     "data": {
      "text/plain": [
       "(5970, 32, 13)"
      ]
     },
     "execution_count": 33,
     "metadata": {},
     "output_type": "execute_result"
    }
   ],
   "source": [
    "_Data.shape"
   ]
  },
  {
   "cell_type": "code",
   "execution_count": 34,
   "metadata": {},
   "outputs": [],
   "source": [
    "X = zip(_Data, Label)"
   ]
  },
  {
   "cell_type": "code",
   "execution_count": 35,
   "metadata": {},
   "outputs": [
    {
     "data": {
      "text/plain": [
       "<BatchDataset shapes: ((None, 32, 13), (None,)), types: (tf.float32, tf.int32)>"
      ]
     },
     "execution_count": 35,
     "metadata": {},
     "output_type": "execute_result"
    }
   ],
   "source": [
    "dataset = tf.data.Dataset.from_tensor_slices((_Data, Label))\n",
    "dataset = dataset.shuffle(1024).batch(32)\n",
    "dataset"
   ]
  },
  {
   "cell_type": "code",
   "execution_count": 36,
   "metadata": {},
   "outputs": [],
   "source": [
    "# Compile the model\n",
    "model.compile(\n",
    "    optimizer=tf.keras.optimizers.Adam(0.001),\n",
    "    loss=tfa.losses.TripletSemiHardLoss())\n"
   ]
  },
  {
   "cell_type": "code",
   "execution_count": 42,
   "metadata": {},
   "outputs": [
    {
     "name": "stdout",
     "output_type": "stream",
     "text": [
      "Epoch 1/40\n",
      "187/187 [==============================] - 18s 97ms/step - loss: 0.4681\n",
      "Epoch 2/40\n",
      "187/187 [==============================] - 18s 97ms/step - loss: 0.4460\n",
      "Epoch 3/40\n",
      "187/187 [==============================] - 18s 96ms/step - loss: 0.4222\n",
      "Epoch 4/40\n",
      "187/187 [==============================] - 18s 96ms/step - loss: 0.3948\n",
      "Epoch 5/40\n",
      "187/187 [==============================] - 18s 98ms/step - loss: 0.3817\n",
      "Epoch 6/40\n",
      "187/187 [==============================] - 18s 99ms/step - loss: 0.3652\n",
      "Epoch 7/40\n",
      "187/187 [==============================] - 18s 95ms/step - loss: 0.3857\n",
      "Epoch 8/40\n",
      "187/187 [==============================] - 18s 95ms/step - loss: 0.3353\n",
      "Epoch 9/40\n",
      "187/187 [==============================] - 18s 97ms/step - loss: 0.3206\n",
      "Epoch 10/40\n",
      "187/187 [==============================] - 18s 96ms/step - loss: 0.3191\n",
      "Epoch 11/40\n",
      "187/187 [==============================] - 18s 96ms/step - loss: 0.3091\n",
      "Epoch 12/40\n",
      "187/187 [==============================] - 18s 96ms/step - loss: 0.3467\n",
      "Epoch 13/40\n",
      "187/187 [==============================] - 18s 96ms/step - loss: 0.3176\n",
      "Epoch 14/40\n",
      "187/187 [==============================] - 18s 96ms/step - loss: 0.3264\n",
      "Epoch 15/40\n",
      "187/187 [==============================] - 18s 97ms/step - loss: 0.2857\n",
      "Epoch 16/40\n",
      "187/187 [==============================] - 18s 98ms/step - loss: 0.2660\n",
      "Epoch 17/40\n",
      "187/187 [==============================] - 19s 103ms/step - loss: 0.2314\n",
      "Epoch 18/40\n",
      "187/187 [==============================] - 19s 102ms/step - loss: 0.2341\n",
      "Epoch 19/40\n",
      "187/187 [==============================] - 19s 103ms/step - loss: 0.2209\n",
      "Epoch 20/40\n",
      "187/187 [==============================] - 19s 103ms/step - loss: 0.2156\n",
      "Epoch 21/40\n",
      "187/187 [==============================] - 19s 103ms/step - loss: 0.1953\n",
      "Epoch 22/40\n",
      "187/187 [==============================] - 18s 97ms/step - loss: 0.2060\n",
      "Epoch 23/40\n",
      "187/187 [==============================] - 18s 96ms/step - loss: 0.1946\n",
      "Epoch 24/40\n",
      "187/187 [==============================] - 18s 96ms/step - loss: 0.1718\n",
      "Epoch 25/40\n",
      "187/187 [==============================] - 18s 97ms/step - loss: 0.2165\n",
      "Epoch 26/40\n",
      "187/187 [==============================] - 18s 99ms/step - loss: 0.1976\n",
      "Epoch 27/40\n",
      "187/187 [==============================] - 18s 96ms/step - loss: 0.1816\n",
      "Epoch 28/40\n",
      "187/187 [==============================] - 18s 95ms/step - loss: 0.1598\n",
      "Epoch 29/40\n",
      "187/187 [==============================] - 18s 97ms/step - loss: 0.1631\n",
      "Epoch 30/40\n",
      "187/187 [==============================] - 18s 97ms/step - loss: 0.1691 1s\n",
      "Epoch 31/40\n",
      "187/187 [==============================] - 18s 95ms/step - loss: 0.2144\n",
      "Epoch 32/40\n",
      "187/187 [==============================] - 18s 96ms/step - loss: 0.1793\n",
      "Epoch 33/40\n",
      "187/187 [==============================] - 18s 98ms/step - loss: 0.1796\n",
      "Epoch 34/40\n",
      "187/187 [==============================] - 18s 98ms/step - loss: 0.1728\n",
      "Epoch 35/40\n",
      "187/187 [==============================] - 18s 97ms/step - loss: 0.1285\n",
      "Epoch 36/40\n",
      "187/187 [==============================] - 18s 95ms/step - loss: 0.1151\n",
      "Epoch 37/40\n",
      "187/187 [==============================] - 18s 97ms/step - loss: 0.1167\n",
      "Epoch 38/40\n",
      "187/187 [==============================] - 18s 99ms/step - loss: 0.1200\n",
      "Epoch 39/40\n",
      "187/187 [==============================] - 18s 96ms/step - loss: 0.1009\n",
      "Epoch 40/40\n",
      "187/187 [==============================] - 18s 97ms/step - loss: 0.1470\n"
     ]
    }
   ],
   "source": [
    "# Train the network\n",
    "history = model.fit(\n",
    "    dataset,\n",
    "    epochs=40\n",
    ")"
   ]
  },
  {
   "cell_type": "code",
   "execution_count": 43,
   "metadata": {},
   "outputs": [
    {
     "name": "stdout",
     "output_type": "stream",
     "text": [
      "WARNING:tensorflow:From /opt/conda/lib/python3.7/site-packages/tensorflow_core/python/ops/resource_variable_ops.py:1781: calling BaseResourceVariable.__init__ (from tensorflow.python.ops.resource_variable_ops) with constraint is deprecated and will be removed in a future version.\n",
      "Instructions for updating:\n",
      "If using Keras pass *_constraint arguments to layers.\n"
     ]
    },
    {
     "name": "stderr",
     "output_type": "stream",
     "text": [
      "WARNING:tensorflow:From /opt/conda/lib/python3.7/site-packages/tensorflow_core/python/ops/resource_variable_ops.py:1781: calling BaseResourceVariable.__init__ (from tensorflow.python.ops.resource_variable_ops) with constraint is deprecated and will be removed in a future version.\n",
      "Instructions for updating:\n",
      "If using Keras pass *_constraint arguments to layers.\n"
     ]
    },
    {
     "name": "stdout",
     "output_type": "stream",
     "text": [
      "INFO:tensorflow:Assets written to: urban_sounds.tf/assets\n"
     ]
    },
    {
     "name": "stderr",
     "output_type": "stream",
     "text": [
      "INFO:tensorflow:Assets written to: urban_sounds.tf/assets\n"
     ]
    }
   ],
   "source": [
    "model.save(\"urban_sounds.tf\")"
   ]
  },
  {
   "cell_type": "code",
   "execution_count": 44,
   "metadata": {},
   "outputs": [],
   "source": [
    "X = model.predict(_Data)"
   ]
  },
  {
   "cell_type": "code",
   "execution_count": 45,
   "metadata": {},
   "outputs": [
    {
     "data": {
      "text/plain": [
       "(5970, 256)"
      ]
     },
     "execution_count": 45,
     "metadata": {},
     "output_type": "execute_result"
    }
   ],
   "source": [
    "X.shape"
   ]
  },
  {
   "cell_type": "code",
   "execution_count": 46,
   "metadata": {},
   "outputs": [
    {
     "name": "stderr",
     "output_type": "stream",
     "text": [
      "/opt/conda/lib/python3.7/site-packages/numba/compiler.py:602: NumbaPerformanceWarning: \n",
      "The keyword argument 'parallel=True' was specified but no transformation for parallel execution was possible.\n",
      "\n",
      "To find out why, try turning on parallel diagnostics, see http://numba.pydata.org/numba-doc/latest/user/parallel.html#diagnostics for help.\n",
      "\n",
      "File \"../../../opt/conda/lib/python3.7/site-packages/umap/nndescent.py\", line 47:\n",
      "    @numba.njit(parallel=True)\n",
      "    def nn_descent(\n",
      "    ^\n",
      "\n",
      "  self.func_ir.loc))\n"
     ]
    },
    {
     "data": {
      "text/plain": [
       "(5970, 2)"
      ]
     },
     "execution_count": 46,
     "metadata": {},
     "output_type": "execute_result"
    }
   ],
   "source": [
    "import umap\n",
    "\n",
    "reducer = umap.UMAP()\n",
    "embedding = reducer.fit_transform(X)\n",
    "embedding.shape"
   ]
  },
  {
   "cell_type": "code",
   "execution_count": 47,
   "metadata": {},
   "outputs": [
    {
     "data": {
      "text/plain": [
       "<matplotlib.collections.PathCollection at 0x7f04e03fd198>"
      ]
     },
     "execution_count": 47,
     "metadata": {},
     "output_type": "execute_result"
    },
    {
     "data": {
      "image/png": "[encoded data removed]",
      "text/plain": [
       "<Figure size 432x288 with 1 Axes>"
      ]
     },
     "metadata": {
      "needs_background": "light"
     },
     "output_type": "display_data"
    }
   ],
   "source": [
    "plt.scatter(embedding[:,0], embedding[:,1], c=[sns.color_palette()[x] for x in Label])"
   ]
  },
  {
   "cell_type": "code",
   "execution_count": null,
   "metadata": {},
   "outputs": [],
   "source": []
  }
 ],
 "metadata": {
  "kernelspec": {
   "display_name": "Python 3",
   "language": "python",
   "name": "python3"
  },
  "language_info": {
   "codemirror_mode": {
    "name": "ipython",
    "version": 3
   },
   "file_extension": ".py",
   "mimetype": "text/x-python",
   "name": "python",
   "nbconvert_exporter": "python",
   "pygments_lexer": "ipython3",
   "version": "3.7.3"
  },
  "pycharm": {
   "stem_cell": {
    "cell_type": "raw",
    "metadata": {
     "collapsed": false
    },
    "source": []
   }
  }
 },
 "nbformat": 4,
 "nbformat_minor": 2
}
